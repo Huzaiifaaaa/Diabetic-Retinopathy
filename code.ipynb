{
 "cells": [
  {
   "attachments": {},
   "cell_type": "markdown",
   "metadata": {},
   "source": [
    "## Creating and loading messidor dataset\n"
   ]
  },
  {
   "cell_type": "code",
   "execution_count": 63,
   "metadata": {},
   "outputs": [],
   "source": [
    "import os\n",
    "import pandas as pd\n",
    "import torch\n",
    "from torch.utils.data import Dataset, DataLoader\n",
    "from torchvision import transforms\n",
    "from PIL import Image\n",
    "\n"
   ]
  },
  {
   "cell_type": "code",
   "execution_count": 64,
   "metadata": {},
   "outputs": [
    {
     "data": {
      "text/plain": [
       "device(type='mps')"
      ]
     },
     "execution_count": 64,
     "metadata": {},
     "output_type": "execute_result"
    }
   ],
   "source": [
    "device='cpu'\n",
    "if(torch.cuda.is_available()):\n",
    "    device = torch.device('cuda')\n",
    "elif(torch.has_mps):\n",
    "    device = torch.device('mps' if torch.has_mps else 'cpu')\n",
    "\n",
    "device"
   ]
  },
  {
   "cell_type": "code",
   "execution_count": 65,
   "metadata": {},
   "outputs": [],
   "source": [
    "import os\n",
    "def walk_through_dir(dir_path):\n",
    "  \"\"\"\n",
    "  Walks through dir_path returning its contents.\n",
    "  Args:\n",
    "    dir_path (str or pathlib.Path): target directory\n",
    "  \n",
    "  Returns:\n",
    "    A print out of:\n",
    "      number of subdiretories in dir_path\n",
    "      number of images (files) in each subdirectory\n",
    "      name of each subdirectory\n",
    "  \"\"\"\n",
    "  for dirpath, dirnames, filenames in os.walk(dir_path):\n",
    "    print(f\"There are {len(dirnames)} directories and {len(filenames)} images in '{dirpath}'.\")"
   ]
  },
  {
   "cell_type": "code",
   "execution_count": null,
   "metadata": {},
   "outputs": [],
   "source": []
  },
  {
   "cell_type": "code",
   "execution_count": null,
   "metadata": {},
   "outputs": [],
   "source": []
  },
  {
   "cell_type": "code",
   "execution_count": 66,
   "metadata": {},
   "outputs": [],
   "source": [
    "\n",
    "transform = transforms.Compose([\n",
    "    transforms.Resize((224, 224)),\n",
    "    transforms.ToTensor(),\n",
    "    transforms.Normalize(mean=[0.485, 0.456, 0.406],\n",
    "                         std=[0.229, 0.224, 0.225])\n",
    "])\n"
   ]
  },
  {
   "cell_type": "code",
   "execution_count": 67,
   "metadata": {},
   "outputs": [],
   "source": [
    "root_dir = './messidor'\n",
    "subset = 'Base11'"
   ]
  },
  {
   "cell_type": "code",
   "execution_count": 68,
   "metadata": {},
   "outputs": [
    {
     "name": "stdout",
     "output_type": "stream",
     "text": [
      "There are 12 directories and 13 images in './messidor'.\n",
      "There are 0 directories and 101 images in './messidor/Base12'.\n",
      "There are 0 directories and 101 images in './messidor/Base24'.\n",
      "There are 0 directories and 101 images in './messidor/Base23'.\n",
      "There are 0 directories and 101 images in './messidor/Base22'.\n",
      "There are 0 directories and 101 images in './messidor/Base13'.\n",
      "There are 0 directories and 101 images in './messidor/Base14'.\n",
      "There are 0 directories and 101 images in './messidor/Base31'.\n",
      "There are 0 directories and 101 images in './messidor/Base11'.\n",
      "There are 0 directories and 101 images in './messidor/Base21'.\n",
      "There are 0 directories and 101 images in './messidor/Base32'.\n",
      "There are 0 directories and 101 images in './messidor/Base34'.\n",
      "There are 0 directories and 101 images in './messidor/Base33'.\n"
     ]
    },
    {
     "data": {
      "text/plain": [
       "['Annotation_Base33.xls',\n",
       " 'Annotation_Base32.xls',\n",
       " 'Annotation_Base24.xls',\n",
       " 'Annotation_Base31.xls',\n",
       " 'Annotation_Base21.xls',\n",
       " '.DS_Store',\n",
       " 'Base12',\n",
       " 'Base24',\n",
       " 'Annotation_Base34.xls',\n",
       " 'Base23',\n",
       " 'Annotation_Base22.xls',\n",
       " 'Base22',\n",
       " 'Base13',\n",
       " 'Base14',\n",
       " 'Annotation_Base23.xls',\n",
       " 'Base31',\n",
       " 'Base11',\n",
       " 'Base21',\n",
       " 'Annotation_Base12.xls',\n",
       " 'Base32',\n",
       " 'Annotation_Base13.xls',\n",
       " 'Annotation_Base11.xls',\n",
       " 'Base34',\n",
       " 'Base33',\n",
       " 'Annotation_Base14.xls']"
      ]
     },
     "execution_count": 68,
     "metadata": {},
     "output_type": "execute_result"
    }
   ],
   "source": [
    "walk_through_dir(root_dir)\n",
    "os.listdir(os.path.join(root_dir))"
   ]
  },
  {
   "cell_type": "code",
   "execution_count": 69,
   "metadata": {},
   "outputs": [],
   "source": [
    "# dataset = MessidorDataset(root_dir, subset, transform=transform)\n",
    "\n",
    "# dataloader = DataLoader(dataset, batch_size=32, shuffle=True)\n"
   ]
  },
  {
   "cell_type": "code",
   "execution_count": 70,
   "metadata": {},
   "outputs": [],
   "source": [
    "# #testing the loading of images\n",
    "\n",
    "# t_labels = pd.read_excel(os.path.join(root_dir, f'Annotation_{subset}.xls') )\n",
    "\n",
    "# # t_labels.drop(['Risk of macular edema '], axis=1, inplace=True)\n",
    "# # t_labels.drop(['Ophthalmologic department'], axis=1, inplace=True)\n",
    "# t_labels.head()"
   ]
  },
  {
   "cell_type": "code",
   "execution_count": 71,
   "metadata": {},
   "outputs": [],
   "source": [
    "# # t_labels=t_labels.drop(['Ophthalmologic department'])\n",
    "# t_labels.drop(['Risk of macular edema '], axis=1, inplace=True)\n",
    "# t_labels.drop(['Ophthalmologic department'], axis=1, inplace=True)\n",
    "# t_labels.head()"
   ]
  },
  {
   "cell_type": "code",
   "execution_count": 72,
   "metadata": {},
   "outputs": [],
   "source": [
    "# t_labels.drop(['Ophthalmologic department'], axis=1, inplace=True)\n",
    "# t_labels"
   ]
  },
  {
   "cell_type": "code",
   "execution_count": 73,
   "metadata": {},
   "outputs": [],
   "source": [
    "# t_labels.head()"
   ]
  },
  {
   "cell_type": "code",
   "execution_count": 74,
   "metadata": {},
   "outputs": [],
   "source": [
    "# len(t_labels)\n",
    "# t_labels[\"Image name\"][0]\n",
    "# os.path.join(root_dir, subset, t_labels[\"Image name\"][0])"
   ]
  },
  {
   "cell_type": "code",
   "execution_count": 75,
   "metadata": {},
   "outputs": [],
   "source": [
    "# import matplotlib.pyplot as plt\n",
    "# import cv2 \n",
    "\n",
    "\n",
    "# img=cv2.imread(os.path.join(root_dir, subset, t_labels[\"Image name\"][0]))\n",
    "# img.shape\n"
   ]
  },
  {
   "cell_type": "code",
   "execution_count": 76,
   "metadata": {},
   "outputs": [],
   "source": [
    "# import matplotlib.pyplot as plt\n",
    "\n",
    "# # Get a batch of data from the dataloader\n",
    "# images, labels = next(iter(dataloader))\n",
    "\n",
    "# # Define a function to display a batch of images with their labels\n",
    "# def show_batch(images, labels):\n",
    "#     fig, axs = plt.subplots(4, 8, figsize=(16, 8))\n",
    "#     axs = axs.ravel()\n",
    "#     for i in range(len(images)):\n",
    "#         axs[i].imshow(images[i].permute(1, 2, 0))\n",
    "#         axs[i].set_title(f'Grade: {labels[i]}')\n",
    "#         axs[i].axis('off')\n",
    "#     plt.tight_layout()\n",
    "#     plt.show()\n",
    "\n",
    "# # Display the batch of images with their labels\n",
    "# show_batch(images, labels)\n"
   ]
  },
  {
   "cell_type": "code",
   "execution_count": 77,
   "metadata": {},
   "outputs": [],
   "source": [
    "# # Step 4: Create DataLoaders\n",
    "# train_loader = DataLoader(train_dataset, batch_size=32, shuffle=True, num_workers=4)\n",
    "# # valid_loader = DataLoader(valid_dataset, batch_size=32, shuffle=False, num_workers=4)\n",
    "# train_loader"
   ]
  },
  {
   "attachments": {},
   "cell_type": "markdown",
   "metadata": {},
   "source": [
    "# Loading all the images from dataset"
   ]
  },
  {
   "cell_type": "code",
   "execution_count": 78,
   "metadata": {},
   "outputs": [],
   "source": [
    "from PIL import ImageOps\n",
    "\n",
    "def enhance_image(image):\n",
    "    return ImageOps.equalize(image)\n",
    "\n"
   ]
  },
  {
   "cell_type": "code",
   "execution_count": 79,
   "metadata": {},
   "outputs": [],
   "source": [
    "import os\n",
    "import pandas as pd\n",
    "from PIL import Image\n",
    "\n",
    "# Directory where the messidor data is stored\n",
    "data_dir = './messidor'\n",
    "\n",
    "# Initialize lists to store image data and labels\n",
    "images = []\n",
    "labels = []\n",
    "\n",
    "# Loop through all excel files in the directory\n",
    "for filename in os.listdir(data_dir):\n",
    "    if filename.endswith('.xls'):\n",
    "        # Load the excel file\n",
    "        df = pd.read_excel(os.path.join(data_dir, filename))\n",
    "        \n",
    "        # Loop through all images listed in the excel file\n",
    "        for index, row in df.iterrows():\n",
    "            image_name = row['Image name']\n",
    "            retinopathy_grade = row['Retinopathy grade']\n",
    "            # risk_of_macular_edema = row['Risk of macular edema ']\n",
    "            \n",
    "            # Construct the path to the image file\n",
    "            base_folder = filename.replace('Annotation_', '').replace('.xls', '')\n",
    "            image_path = os.path.join(data_dir, base_folder, image_name)\n",
    "            \n",
    "            try:\n",
    "                # Open the image file\n",
    "                with Image.open(image_path) as img:\n",
    "                    # Convert the image to RGB and add to list\n",
    "                    images.append(enhance_image(img.convert('RGB')))\n",
    "                    \n",
    "                    # Add the labels to the list\n",
    "                    # labels.append((retinopathy_grade, risk_of_macular_edema))\n",
    "                    labels.append(retinopathy_grade)\n",
    "            except IOError:\n",
    "                print(f'Error opening image file: {image_path}')\n",
    "\n",
    "# At this point, 'images' is a list of PIL Image objects\n",
    "# and 'labels' is a list of tuples, where each tuple contains the retinopathy grade and the risk of macular edema\n"
   ]
  },
  {
   "cell_type": "code",
   "execution_count": 80,
   "metadata": {},
   "outputs": [
    {
     "data": {
      "text/plain": [
       "1200"
      ]
     },
     "execution_count": 80,
     "metadata": {},
     "output_type": "execute_result"
    }
   ],
   "source": [
    "len(images)\n"
   ]
  },
  {
   "cell_type": "code",
   "execution_count": 81,
   "metadata": {},
   "outputs": [],
   "source": [
    "# plt.imshow(images[0])\n"
   ]
  },
  {
   "cell_type": "code",
   "execution_count": 82,
   "metadata": {},
   "outputs": [],
   "source": [
    "import numpy as np\n",
    "from sklearn.model_selection import train_test_split\n",
    "from torchvision import transforms\n",
    "from torch.utils.data import DataLoader, Dataset"
   ]
  },
  {
   "cell_type": "code",
   "execution_count": 83,
   "metadata": {},
   "outputs": [],
   "source": [
    "# Define the transformations\n",
    "transform = transforms.Compose([\n",
    "    transforms.RandomResizedCrop(224),\n",
    "    transforms.RandomHorizontalFlip(),\n",
    "    transforms.RandomRotation(20),\n",
    "    transforms.ToTensor(),\n",
    "    transforms.Normalize(mean=[0.485, 0.456, 0.406], std=[0.229, 0.224, 0.225]),\n",
    "])\n"
   ]
  },
  {
   "cell_type": "code",
   "execution_count": 84,
   "metadata": {},
   "outputs": [],
   "source": [
    "class CustomDataset(Dataset):\n",
    "    def __init__(self, images, labels, transform=None):\n",
    "        self.images = images\n",
    "        self.labels = labels\n",
    "        self.transform = transform\n",
    "\n",
    "    def __len__(self):\n",
    "        return len(self.images)\n",
    "\n",
    "    def __getitem__(self, idx):\n",
    "        image = self.images[idx]\n",
    "        label = self.labels[idx]\n",
    "        if self.transform:\n",
    "            image = self.transform(image)\n",
    "        return image, label\n"
   ]
  },
  {
   "cell_type": "code",
   "execution_count": 85,
   "metadata": {},
   "outputs": [
    {
     "name": "stderr",
     "output_type": "stream",
     "text": [
      "/var/folders/kx/1v0nrsws1w125163xg5p1bq80000gn/T/ipykernel_99445/88778956.py:2: FutureWarning: The input object of type 'Image' is an array-like implementing one of the corresponding protocols (`__array__`, `__array_interface__` or `__array_struct__`); but not a sequence (or 0-D). In the future, this object will be coerced as if it was first converted using `np.array(obj)`. To retain the old behaviour, you have to either modify the type 'Image', or assign to an empty array created with `np.empty(correct_shape, dtype=object)`.\n",
      "  images = np.array(images)\n",
      "/var/folders/kx/1v0nrsws1w125163xg5p1bq80000gn/T/ipykernel_99445/88778956.py:2: VisibleDeprecationWarning: Creating an ndarray from ragged nested sequences (which is a list-or-tuple of lists-or-tuples-or ndarrays with different lengths or shapes) is deprecated. If you meant to do this, you must specify 'dtype=object' when creating the ndarray.\n",
      "  images = np.array(images)\n"
     ]
    }
   ],
   "source": [
    "# Convert images and labels to numpy arrays\n",
    "images = np.array(images)\n",
    "labels = np.array(labels)\n"
   ]
  },
  {
   "cell_type": "code",
   "execution_count": 86,
   "metadata": {},
   "outputs": [],
   "source": [
    "# DATA_SIZE=100"
   ]
  },
  {
   "cell_type": "code",
   "execution_count": 87,
   "metadata": {},
   "outputs": [],
   "source": [
    "# Randomly select 100 images for testing\n",
    "# indices = np.random.choice(len(images), size=DATA_SIZE, replace=False)\n",
    "\n",
    "# Get the selected images and labels\n",
    "# selected_images = images[indices]\n",
    "# selected_labels = labels[indices]\n",
    "\n",
    "selected_images = images\n",
    "selected_labels = labels\n",
    "\n",
    "# images=[]\n",
    "# labels=[]\n"
   ]
  },
  {
   "cell_type": "code",
   "execution_count": 88,
   "metadata": {},
   "outputs": [],
   "source": [
    "# Split the selected data into training and testing sets\n",
    "train_images, test_images, train_labels, test_labels = train_test_split(selected_images, selected_labels, test_size=0.2, random_state=42)\n"
   ]
  },
  {
   "cell_type": "code",
   "execution_count": 89,
   "metadata": {},
   "outputs": [
    {
     "data": {
      "text/plain": [
       "array([0, 0, 0, ..., 3, 3, 3])"
      ]
     },
     "execution_count": 89,
     "metadata": {},
     "output_type": "execute_result"
    }
   ],
   "source": [
    "labels"
   ]
  },
  {
   "cell_type": "code",
   "execution_count": 90,
   "metadata": {},
   "outputs": [],
   "source": [
    "# from torch.utils.data import WeightedRandomSampler\n",
    "\n",
    "# # Calculate weights\n",
    "# class_counts = np.bincount(selected_labels)\n",
    "# class_weights = 1. / class_counts\n",
    "# sample_weights = class_weights[selected_labels]\n",
    "\n",
    "# # Create sampler\n",
    "# sampler = WeightedRandomSampler(sample_weights, len(sample_weights))\n",
    "\n",
    "\n"
   ]
  },
  {
   "cell_type": "code",
   "execution_count": 131,
   "metadata": {},
   "outputs": [
    {
     "name": "stdout",
     "output_type": "stream",
     "text": [
      "960\n",
      "240\n",
      "30\n",
      "8\n"
     ]
    }
   ],
   "source": [
    "\n",
    "# Create PyTorch datasets and dataloaders\n",
    "train_dataset = CustomDataset(train_images, train_labels, transform=transform)\n",
    "test_dataset = CustomDataset(test_images, test_labels, transform=transform)\n",
    "print(len(train_dataset))\n",
    "print(len(test_dataset))\n",
    "\n",
    "# Use the sampler in your DataLoader\n",
    "train_loader = DataLoader(train_dataset, batch_size=32, )\n",
    "\n",
    "test_loader = DataLoader(test_dataset, batch_size=32, shuffle=False)\n",
    "\n",
    "print(len(train_loader))\n",
    "print(len(test_loader))\n"
   ]
  },
  {
   "cell_type": "code",
   "execution_count": 132,
   "metadata": {},
   "outputs": [],
   "source": [
    "for inputs, labels in train_loader:\n",
    "    inputs = inputs.to(device)\n",
    "    labels = labels.to(device)"
   ]
  },
  {
   "cell_type": "code",
   "execution_count": 133,
   "metadata": {},
   "outputs": [],
   "source": [
    "import matplotlib.pyplot as plt\n",
    "import torchvision\n"
   ]
  },
  {
   "cell_type": "code",
   "execution_count": 134,
   "metadata": {},
   "outputs": [],
   "source": [
    "# Function to unnormalize and convert tensor image to numpy for visualization\n",
    "def imshow(inp, title=None):\n",
    "    \"\"\"Imshow for Tensor.\"\"\"\n",
    "    inp = inp.numpy().transpose((1, 2, 0))\n",
    "    mean = np.array([0.485, 0.456, 0.406])\n",
    "    std = np.array([0.229, 0.224, 0.225])\n",
    "    inp = std * inp + mean\n",
    "    inp = np.clip(inp, 0, 1)\n",
    "    plt.imshow(inp)\n",
    "    if title is not None:\n",
    "        plt.title(title)\n",
    "    plt.pause(0.001)  # pause a bit so that plots are updated"
   ]
  },
  {
   "cell_type": "code",
   "execution_count": 135,
   "metadata": {},
   "outputs": [
    {
     "data": {
      "image/png": "[encoded data removed]",
      "text/plain": [
       "<Figure size 640x480 with 1 Axes>"
      ]
     },
     "metadata": {},
     "output_type": "display_data"
    }
   ],
   "source": [
    "\n",
    "# Get a batch of training data\n",
    "inputs, labels = next(iter(train_loader))\n",
    "\n",
    "# Get 4 random indices\n",
    "indices = np.random.choice(range(inputs.size(0)), size=4, replace=False)\n",
    "\n",
    "# Select 4 random images and their labels\n",
    "selected_inputs = inputs[indices]\n",
    "selected_labels = labels[indices]\n",
    "\n",
    "# Make a grid from batch\n",
    "out = torchvision.utils.make_grid(selected_inputs)\n",
    "\n",
    "# Titles for the images\n",
    "titles = [f'Retinopathy grade: {label.item()}' for label in selected_labels]\n",
    "\n",
    "imshow(out, title=titles)"
   ]
  },
  {
   "cell_type": "code",
   "execution_count": null,
   "metadata": {},
   "outputs": [],
   "source": []
  },
  {
   "cell_type": "code",
   "execution_count": null,
   "metadata": {},
   "outputs": [],
   "source": []
  },
  {
   "cell_type": "code",
   "execution_count": null,
   "metadata": {},
   "outputs": [],
   "source": []
  },
  {
   "cell_type": "code",
   "execution_count": null,
   "metadata": {},
   "outputs": [],
   "source": []
  },
  {
   "cell_type": "code",
   "execution_count": null,
   "metadata": {},
   "outputs": [],
   "source": []
  },
  {
   "cell_type": "code",
   "execution_count": null,
   "metadata": {},
   "outputs": [],
   "source": []
  },
  {
   "cell_type": "code",
   "execution_count": null,
   "metadata": {},
   "outputs": [],
   "source": []
  },
  {
   "cell_type": "code",
   "execution_count": null,
   "metadata": {},
   "outputs": [],
   "source": []
  },
  {
   "attachments": {},
   "cell_type": "markdown",
   "metadata": {},
   "source": [
    "# Implementing the fine-grained classifier:"
   ]
  },
  {
   "cell_type": "code",
   "execution_count": 136,
   "metadata": {},
   "outputs": [],
   "source": [
    "# import torch.nn as nn\n",
    "# import torch.optim as optim\n",
    "# from torchvision.models import resnet50\n"
   ]
  },
  {
   "cell_type": "code",
   "execution_count": 137,
   "metadata": {},
   "outputs": [],
   "source": [
    "# # Load pre-trained ResNet-50 model and replace the final classification layer\n",
    "# model = resnet50(weights='ResNet50_Weights.DEFAULT')\n",
    "# num_features = model.fc.in_features\n",
    "# model.fc = nn.Linear(num_features, 4)\n",
    "\n"
   ]
  },
  {
   "cell_type": "code",
   "execution_count": 138,
   "metadata": {},
   "outputs": [],
   "source": [
    "# # Send model to GPU if available\n",
    "\n",
    "# model = model.to(device)\n",
    "\n",
    "# model.parameters()"
   ]
  },
  {
   "cell_type": "code",
   "execution_count": 139,
   "metadata": {},
   "outputs": [],
   "source": [
    "\n",
    "# # Define loss function and optimizer\n",
    "# criterion = nn.CrossEntropyLoss()\n",
    "# optimizer = optim.Adam(model.parameters(), lr=0.001)"
   ]
  },
  {
   "attachments": {},
   "cell_type": "markdown",
   "metadata": {},
   "source": [
    "# Implementing the coarse-grained classifier:"
   ]
  },
  {
   "cell_type": "code",
   "execution_count": 140,
   "metadata": {},
   "outputs": [],
   "source": [
    "# class CoarseClassifier(nn.Module):\n",
    "#     def __init__(self, input_size, hidden_size, num_classes):\n",
    "#         super(CoarseClassifier, self).__init__()\n",
    "#         self.fc1 = nn.Linear(input_size, hidden_size)\n",
    "#         self.relu = nn.ReLU()\n",
    "#         self.fc2 = nn.Linear(hidden_size, num_classes)\n",
    "\n",
    "#     def forward(self, x):\n",
    "#         out = self.fc1(x)\n",
    "#         out = self.relu(out)\n",
    "#         out = self.fc2(out)\n",
    "#         return out\n"
   ]
  },
  {
   "cell_type": "code",
   "execution_count": 141,
   "metadata": {},
   "outputs": [],
   "source": [
    "# with torch.no_grad():\n",
    "#     output = model(next(iter(train_loader))[0])\n",
    "#     print(\"Output shape:\", output.shape)"
   ]
  },
  {
   "cell_type": "code",
   "execution_count": 142,
   "metadata": {},
   "outputs": [],
   "source": [
    "# # Define the parameters\n",
    "# input_size = output.shape[1]  # Output size of the fine-grained model\n",
    "# hidden_size = 128  # Or any other number\n",
    "# num_classes = 4  # Number of classes for the coarse-grained task\n",
    "\n",
    "# # Instantiate the model\n",
    "# coarse_classifier = CoarseClassifier(input_size, hidden_size, num_classes)"
   ]
  },
  {
   "cell_type": "code",
   "execution_count": 143,
   "metadata": {},
   "outputs": [],
   "source": [
    "# coarse_criterion = nn.CrossEntropyLoss()\n",
    "# coarse_optimizer = optim.Adam(coarse_classifier.parameters(), lr=0.001)"
   ]
  },
  {
   "attachments": {},
   "cell_type": "markdown",
   "metadata": {},
   "source": [
    "## Training and combining the classifiers:"
   ]
  },
  {
   "cell_type": "code",
   "execution_count": 144,
   "metadata": {},
   "outputs": [],
   "source": [
    "# def train_fine_grained_classifier(model, dataloader, criterion, optimizer, device):\n",
    "#     model.train()\n",
    "#     running_loss = 0.0\n",
    "#     correct = 0\n",
    "#     total = 0\n",
    "\n",
    "#     for images, labels in dataloader:\n",
    "#         images, labels = images.to(device), labels.to(device)\n",
    "\n",
    "#         optimizer.zero_grad()\n",
    "#         outputs = model(images)\n",
    "#         loss = criterion(outputs, labels)\n",
    "#         loss.backward()\n",
    "#         optimizer.step()\n",
    "\n",
    "#         running_loss += loss.item()\n",
    "#         _, predicted = torch.max(outputs.data, 1)\n",
    "#         total += labels.size(0)\n",
    "#         correct += (predicted == labels).sum().item()\n",
    "\n",
    "#     return running_loss / len(dataloader), correct / total\n",
    "\n"
   ]
  },
  {
   "cell_type": "code",
   "execution_count": 145,
   "metadata": {},
   "outputs": [],
   "source": [
    "# def train_coarse_grained_classifier(model, dataloader, criterion, optimizer, device, fine_grained_classifier):\n",
    "#     model.train()\n",
    "#     fine_grained_classifier.eval()\n",
    "\n",
    "#     running_loss = 0.0\n",
    "#     correct = 0\n",
    "#     total = 0\n",
    "\n",
    "#     for images, labels in dataloader:\n",
    "#         images, labels = images.to(device), labels.to(device)\n",
    "\n",
    "#         # Get the output probabilities of the fine-grained classifier\n",
    "#         with torch.no_grad():\n",
    "#             fine_grained_probs = fine_grained_classifier(images)\n",
    "\n",
    "#         # Train the coarse-grained classifier\n",
    "#         optimizer.zero_grad()\n",
    "#         outputs = model(fine_grained_probs)\n",
    "#         loss = criterion(outputs, labels)\n",
    "#         loss.backward()\n",
    "#         optimizer.step()\n",
    "\n",
    "#         running_loss += loss.item()\n",
    "#         _, predicted = torch.max(outputs.data, 1)\n",
    "#         total += labels.size(0)\n",
    "#         correct += (predicted == labels).sum().item()\n",
    "\n",
    "#     train_loss = running_loss / len(dataloader)\n",
    "#     train_acc = 100 * correct / total\n",
    "\n",
    "#     return train_loss, train_acc\n"
   ]
  },
  {
   "cell_type": "code",
   "execution_count": 146,
   "metadata": {},
   "outputs": [],
   "source": [
    "# def evaluate_classifier(model, dataloader, device):\n",
    "#     correct = 0\n",
    "#     total = 0\n",
    "#     model.eval()  \n",
    "#     with torch.no_grad():\n",
    "#         for images, labels in dataloader:\n",
    "#             images, labels = images.to(device), labels.to(device)\n",
    "#             outputs = model(images)\n",
    "#             _, predicted = torch.max(outputs.data, 1)\n",
    "#             total += labels.size(0)\n",
    "#             correct += (predicted == labels).sum().item()\n",
    "#     model.train()\n",
    "#     return correct / total"
   ]
  },
  {
   "cell_type": "code",
   "execution_count": 147,
   "metadata": {},
   "outputs": [],
   "source": [
    "# def get_model_output_and_labels(model, dataloader, device):\n",
    "#     model.eval()  \n",
    "#     outputs_list = []\n",
    "#     labels_list = []\n",
    "#     with torch.no_grad():\n",
    "#         for images, labels in dataloader:\n",
    "#             images = images.to(device)\n",
    "#             outputs = model(images)\n",
    "#             outputs_list.append(outputs)\n",
    "#             labels_list.append(labels)\n",
    "#     model.train()\n",
    "#     return torch.cat(outputs_list), torch.cat(labels_list)\n"
   ]
  },
  {
   "cell_type": "code",
   "execution_count": 148,
   "metadata": {},
   "outputs": [],
   "source": [
    "# def validate_combined_classifier(fine_grained_classifier, coarse_classifier, dataloader, device, alpha):\n",
    "#     fine_grained_classifier.eval()\n",
    "#     coarse_classifier.eval()\n",
    "\n",
    "#     correct = 0\n",
    "#     total = 0\n",
    "\n",
    "#     with torch.no_grad():\n",
    "#         for images, labels in dataloader:\n",
    "#             images, labels = images.to(device), labels.to(device)\n",
    "\n",
    "#             # Get the output probabilities of both classifiers\n",
    "#             fine_grained_probs = fine_grained_classifier(images)\n",
    "#             coarse_probs = coarse_classifier(fine_grained_probs)\n",
    "\n",
    "#             # Combine the output probabilities\n",
    "#             combined_probs = alpha * fine_grained_probs + (1 - alpha) * coarse_probs\n",
    "\n",
    "#             _, predicted = torch.max(combined_probs.data, 1)\n",
    "#             total += labels.size(0)\n",
    "#             correct += (predicted == labels).sum().item()\n",
    "\n",
    "#     valid_acc = 100 * correct / total\n",
    "\n",
    "#     return valid_acc\n"
   ]
  },
  {
   "cell_type": "code",
   "execution_count": 149,
   "metadata": {},
   "outputs": [],
   "source": [
    "# labels.unique()"
   ]
  },
  {
   "cell_type": "code",
   "execution_count": 150,
   "metadata": {},
   "outputs": [],
   "source": [
    "# next(iter(train_loader))[1].size()"
   ]
  },
  {
   "cell_type": "code",
   "execution_count": null,
   "metadata": {},
   "outputs": [],
   "source": []
  },
  {
   "cell_type": "code",
   "execution_count": 151,
   "metadata": {},
   "outputs": [],
   "source": [
    "\n",
    "# num_epochs = 1\n",
    "# best_alpha = 0.0\n",
    "# best_valid_acc = 0.0\n"
   ]
  },
  {
   "cell_type": "code",
   "execution_count": 152,
   "metadata": {},
   "outputs": [],
   "source": [
    "# train_loss_fg, train_acc_fg = train_fine_grained_classifier(model, train_loader, criterion, optimizer, device)\n",
    "\n",
    "# print(f'Fine-grained classifier: Train loss: {train_loss_fg:.4f} | Train accuracy: {train_acc_fg:.4f}')"
   ]
  },
  {
   "cell_type": "code",
   "execution_count": 153,
   "metadata": {},
   "outputs": [],
   "source": [
    "# test_acc_fg = evaluate_classifier(model, test_loader, device)\n",
    "# print(f'Fine-grained classifier: Test accuracy: {test_acc_fg:.4f}')"
   ]
  },
  {
   "cell_type": "code",
   "execution_count": 154,
   "metadata": {},
   "outputs": [],
   "source": [
    "# from torch.utils.data import TensorDataset, DataLoader\n",
    "\n",
    "# # Get output of fine-grained classifier and labels for the training set\n",
    "# train_output_fg, train_labels = get_model_output_and_labels(model, train_loader, device)\n",
    "\n",
    "# # Create a new dataloader\n",
    "# coarse_train_dataset = TensorDataset(train_output_fg.cpu(), train_labels.cpu())\n",
    "# coarse_train_dataloader = DataLoader(coarse_train_dataset, batch_size=16, shuffle=True)\n",
    "\n",
    "# # Train the coarse-grained classifier\n",
    "# train_loss_cg, train_acc_cg = train_coarse_grained_classifier(coarse_classifier, coarse_train_dataloader, coarse_criterion, coarse_optimizer, device, fine_grained_classifier=model)\n"
   ]
  },
  {
   "cell_type": "code",
   "execution_count": 155,
   "metadata": {},
   "outputs": [],
   "source": [
    "#   # Train the coarse-grained classifier\n",
    "# train_loss_cg, train_acc_cg = train_coarse_grained_classifier(coarse_classifier, train_output_fg, coarse_criterion, coarse_optimizer, device,fine_grained_classifier= model)\n",
    "\n",
    "# print(f'Coarse-grained classifier: Train loss: {train_loss_cg:.4f} | Train accuracy: {train_acc_cg:.4f}')    "
   ]
  },
  {
   "cell_type": "code",
   "execution_count": null,
   "metadata": {},
   "outputs": [],
   "source": []
  },
  {
   "cell_type": "code",
   "execution_count": null,
   "metadata": {},
   "outputs": [],
   "source": []
  },
  {
   "cell_type": "code",
   "execution_count": null,
   "metadata": {},
   "outputs": [],
   "source": []
  },
  {
   "cell_type": "code",
   "execution_count": 156,
   "metadata": {},
   "outputs": [],
   "source": [
    "# train_loss_cg, train_acc_cg = train_coarse_grained_classifier(coarse_classifier, train_loader, coarse_criterion, coarse_optimizer, device, model)\n",
    "# print(f'Coarse-grained classifier: Train loss: {train_loss_cg:.4f} | Train accuracy: {train_acc_cg:.4f}')"
   ]
  },
  {
   "cell_type": "code",
   "execution_count": 157,
   "metadata": {},
   "outputs": [],
   "source": [
    "# test_acc_cg = evaluate_classifier(coarse_classifier, test_loader,device)\n",
    "# print(f'Coarse-grained classifier: Test accuracy: {test_acc_cg:.4f}')"
   ]
  },
  {
   "cell_type": "code",
   "execution_count": null,
   "metadata": {},
   "outputs": [],
   "source": []
  },
  {
   "cell_type": "code",
   "execution_count": null,
   "metadata": {},
   "outputs": [],
   "source": []
  },
  {
   "cell_type": "code",
   "execution_count": 158,
   "metadata": {},
   "outputs": [],
   "source": [
    "# for epoch in range(num_epochs):\n",
    "#     print(0)\n",
    "#     # Train the fine-grained classifier\n",
    "#     train_loss_fg, train_acc_fg = train_fine_grained_classifier(model, train_loader, criterion, optimizer, device)\n",
    "#     print(1)\n",
    "#     # Evaluate the fine-grained classifier\n",
    "#     test_acc_fg = evaluate_classifier(model, test_loader, device)\n",
    "#     print(2)\n",
    "\n",
    "#     # Get output of fine-grained classifier for the training set\n",
    "#     train_output_fg = get_model_output(model, train_loader, device)\n",
    "\n",
    "#     print(3)\n",
    "#     # Train the coarse-grained classifier\n",
    "#     train_loss_cg, train_acc_cg = train_coarse_grained_classifier(coarse_classifier, train_output_fg, coarse_criterion, coarse_optimizer, device)\n",
    "#     print(4)\n",
    "\n",
    "#     # Get output of fine-grained classifier for the test set\n",
    "#     test_output_fg = get_model_output(model, test_loader, device)\n",
    "    \n",
    "#     # Evaluate the coarse-grained classifier\n",
    "#     test_acc_cg = evaluate_classifier(coarse_classifier, test_output_fg, device)\n",
    "\n",
    "#     print(5)\n",
    "#     # Evaluate the combined classifier\n",
    "#     valid_acc_combined = 0.0\n",
    "#     for alpha in np.arange(0.0, 1.1, 0.1):\n",
    "#         valid_acc = validate_combined_classifier(model, coarse_classifier, test_output_fg, device, alpha)\n",
    "#         if valid_acc > valid_acc_combined:\n",
    "#             valid_acc_combined = valid_acc\n",
    "#             best_alpha = alpha\n",
    "#     print(6)\n",
    "\n",
    "#     test_acc_combined = validate_combined_classifier(model, coarse_classifier, test_output_fg, device, best_alpha)\n",
    "\n",
    "#     print(f'Epoch [{epoch + 1}/{num_epochs}]')\n",
    "#     print(f'Fine-grained Classifier: Train Loss: {train_loss_fg:.4f}, Train Acc: {train_acc_fg:.4f}, Test Acc: {test_acc_fg:.4f}')\n",
    "#     print(f'Coarse-grained Classifier: Train Loss: {train_loss_cg:.4f}, Train Acc: {train_acc_cg:.4f}, Test Acc: {test_acc_cg:.4f\n"
   ]
  },
  {
   "cell_type": "code",
   "execution_count": null,
   "metadata": {},
   "outputs": [],
   "source": []
  },
  {
   "cell_type": "code",
   "execution_count": null,
   "metadata": {},
   "outputs": [],
   "source": []
  },
  {
   "cell_type": "code",
   "execution_count": null,
   "metadata": {},
   "outputs": [],
   "source": []
  },
  {
   "cell_type": "code",
   "execution_count": null,
   "metadata": {},
   "outputs": [],
   "source": []
  },
  {
   "cell_type": "code",
   "execution_count": 159,
   "metadata": {},
   "outputs": [],
   "source": [
    "# for epoch in range(num_epochs):\n",
    "#     # Train the fine-grained classifier\n",
    "#     print(0)\n",
    "\n",
    "#     train_loss_fg, train_acc_fg = train_fine_grained_classifier(model, train_loader, criterion, optimizer, device)\n",
    "#     print(1)\n",
    "#     test_acc_fg = evaluate_classifier(model, test_loader, device,fine_grained_classifier=model)\n",
    "#     print(2)\n",
    "\n",
    "#     # Train the coarse-grained classifier\n",
    "#     train_loss_cg, train_acc_cg = train_coarse_grained_classifier(coarse_classifier, train_loader, coarse_criterion, coarse_optimizer, device, model)\n",
    "#     print(3)\n",
    "\n",
    "#     test_acc_cg = evaluate_classifier(coarse_classifier, test_loader, device,fine_grained_classifier=model)\n",
    "#     print(4)\n",
    "\n",
    "\n",
    "#     # Evaluate the combined classifier\n",
    "#     valid_acc_combined = 0.0\n",
    "#     for alpha in np.arange(0.0, 1.1, 0.1):\n",
    "#         valid_acc = validate_combined_classifier(model, coarse_classifier, test_loader, device, alpha)\n",
    "#         if valid_acc > valid_acc_combined:\n",
    "#             valid_acc_combined = valid_acc\n",
    "#             best_alpha = alpha\n",
    "\n",
    "#     print(5)\n",
    "\n",
    "#     test_acc_combined = validate_combined_classifier(model, coarse_classifier, test_loader, device, best_alpha)\n",
    "#     print(6)\n",
    "\n",
    "#     print(f'Epoch [{epoch + 1}/{num_epochs}]')\n",
    "#     print(f'Fine-grained Classifier: Train Loss: {train_loss_fg:.4f}, Train Acc: {train_acc_fg:.4f}, Test Acc: {test_acc_fg:.4f}')\n",
    "#     print(f'Coarse-grained Classifier: Train Loss: {train_loss_cg:.4f}, Train Acc: {train_acc_cg:.4f}, Test Acc: {test_acc_cg:.4f}')\n",
    "#     print(f'Combined Classifier: Best Alpha: {best_alpha:.2f}, Test Acc: {test_acc_combined:.4f}')\n",
    "#     print('-' * 80)"
   ]
  },
  {
   "cell_type": "code",
   "execution_count": 163,
   "metadata": {},
   "outputs": [],
   "source": [
    "# # Train the coarse-grained classifier\n",
    "# num_epochs = 10\n",
    "# for epoch in range(num_epochs):\n",
    "#     train_loss, train_acc = train_coarse_grained_classifier(coarse_classifier, train_loader, coarse_criterion, coarse_optimizer, device, model)\n",
    "#     valid_acc = validate_combined_classifier(model, coarse_classifier, test_loader, device, 0.5)\n",
    "#     print(f'Epoch [{epoch + 1}/{num_epochs}], Train Loss: {train_loss:.4f}, Train Acc: {train_acc:.4f}, Valid Acc: {valid_acc:.4f}')\n"
   ]
  },
  {
   "cell_type": "code",
   "execution_count": 164,
   "metadata": {},
   "outputs": [
    {
     "name": "stderr",
     "output_type": "stream",
     "text": [
      "Using cache found in /Users/humzakhawar/.cache/torch/hub/pytorch_vision_v0.9.0\n"
     ]
    },
    {
     "name": "stdout",
     "output_type": "stream",
     "text": [
      "Fine-Grained - Epoch: 1, Loss: 1.3528, Accuracy: 0.4448\n",
      "Fine-Grained - Epoch: 11, Loss: 0.9947, Accuracy: 0.6021\n",
      "Fine-Grained - Epoch: 21, Loss: 0.9300, Accuracy: 0.6260\n",
      "Fine-Grained - Epoch: 31, Loss: 0.9180, Accuracy: 0.6323\n",
      "Fine-Grained - Epoch: 41, Loss: 0.8318, Accuracy: 0.6677\n",
      "Fine-Grained - Epoch: 51, Loss: 0.8522, Accuracy: 0.6646\n",
      "Fine-Grained - Epoch: 61, Loss: 0.8207, Accuracy: 0.6687\n",
      "Fine-Grained - Epoch: 71, Loss: 0.8203, Accuracy: 0.6781\n",
      "Fine-Grained - Epoch: 81, Loss: 0.7546, Accuracy: 0.6927\n",
      "Fine-Grained - Epoch: 91, Loss: 0.7980, Accuracy: 0.6708\n",
      "Coarse-Grained - Epoch: 1, Loss: 1.0088, Accuracy: 0.5865\n",
      "Coarse-Grained - Epoch: 11, Loss: 0.7164, Accuracy: 0.7094\n",
      "Coarse-Grained - Epoch: 21, Loss: 0.7211, Accuracy: 0.7115\n",
      "Coarse-Grained - Epoch: 31, Loss: 0.7084, Accuracy: 0.7167\n",
      "Coarse-Grained - Epoch: 41, Loss: 0.6809, Accuracy: 0.7323\n",
      "Coarse-Grained - Epoch: 51, Loss: 0.7150, Accuracy: 0.7000\n",
      "Coarse-Grained - Epoch: 61, Loss: 0.7041, Accuracy: 0.7135\n",
      "Coarse-Grained - Epoch: 71, Loss: 0.7422, Accuracy: 0.7021\n",
      "Coarse-Grained - Epoch: 81, Loss: 0.7234, Accuracy: 0.6979\n",
      "Coarse-Grained - Epoch: 91, Loss: 0.6811, Accuracy: 0.7292\n"
     ]
    }
   ],
   "source": [
    "# Required Libraries\n",
    "import torch\n",
    "import torch.nn as nn\n",
    "import torch.optim as optim\n",
    "import numpy as np\n",
    "\n",
    "# Fine-grained Model\n",
    "class FineGrainedClassifier(nn.Module):\n",
    "    def __init__(self, pretrained_model):\n",
    "        super(FineGrainedClassifier, self).__init__()\n",
    "        self.pretrained = pretrained_model\n",
    "\n",
    "    def forward(self, x):\n",
    "        return self.pretrained(x)\n",
    "\n",
    "# Coarse-grained Model\n",
    "class CoarseGrainedClassifier(nn.Module):\n",
    "    def __init__(self, input_size, hidden_size, num_classes):\n",
    "        super(CoarseGrainedClassifier, self).__init__()\n",
    "        self.fc1 = nn.Linear(input_size, hidden_size)\n",
    "        self.relu = nn.ReLU()\n",
    "        self.fc2 = nn.Linear(hidden_size, num_classes)\n",
    "\n",
    "    def forward(self, x):\n",
    "        # out = self.fc1(x)\n",
    "        # out = self.relu(out)\n",
    "        # out = self.fc2(out)\n",
    "        return  self.fc2(self.relu(self.fc1(x)))\n",
    "\n",
    "# Function for Training\n",
    "def train(model, criterion, optimizer, dataloader):\n",
    "    model.train()\n",
    "    total_loss = 0.0\n",
    "    total_correct = 0\n",
    "    total_images = 0\n",
    "    \n",
    "    for batch in dataloader:\n",
    "        images, labels = batch\n",
    "        images = images.to(device)\n",
    "        labels = labels.to(device)\n",
    "        \n",
    "        outputs = model(images)\n",
    "        loss = criterion(outputs, labels)\n",
    "        loss.backward()\n",
    "        \n",
    "        optimizer.step()\n",
    "        optimizer.zero_grad()\n",
    "        \n",
    "        total_loss += loss.item() * images.size(0)\n",
    "        _, predicted = torch.max(outputs.data, 1)\n",
    "        total_correct += (predicted == labels).sum().item()\n",
    "        total_images += images.size(0)\n",
    "\n",
    "        # clear memory\n",
    "        torch.cuda.empty_cache()\n",
    "\n",
    "    return total_loss / total_images, total_correct / total_images\n",
    "\n",
    "# Function for Training Coarse-grained model\n",
    "def train_coarse(model, criterion, optimizer, dataloader, fine_model):\n",
    "    model.train()\n",
    "    total_loss = 0.0\n",
    "    total_correct = 0\n",
    "    total_images = 0\n",
    "    \n",
    "    for batch in dataloader:\n",
    "        images, labels = batch\n",
    "        images = images.to(device)\n",
    "        labels = labels.to(device)\n",
    "        \n",
    "        with torch.no_grad():\n",
    "            fine_output = fine_model(images)\n",
    "        \n",
    "        outputs = model(fine_output)\n",
    "        loss = criterion(outputs, labels)\n",
    "        loss.backward()\n",
    "        \n",
    "        optimizer.step()\n",
    "        optimizer.zero_grad()\n",
    "        \n",
    "        total_loss += loss.item() * images.size(0)\n",
    "        _, predicted = torch.max(outputs.data, 1)\n",
    "        total_correct += (predicted == labels).sum().item()\n",
    "        total_images += images.size(0)\n",
    "\n",
    "        # clear memory\n",
    "        torch.cuda.empty_cache()\n",
    "\n",
    "    return total_loss / total_images, total_correct / total_images\n",
    "\n",
    "\n",
    "\n",
    "# Instantiate the fine-grained classifier\n",
    "pretrained_model = torch.hub.load('pytorch/vision:v0.9.0', 'resnet50', weights='ResNet50_Weights.IMAGENET1K_V1')\n",
    "pretrained_model.fc = nn.Linear(pretrained_model.fc.in_features, 4)\n",
    "fine_grained_classifier = FineGrainedClassifier(pretrained_model)\n",
    "fine_grained_classifier.to(device)\n",
    "\n",
    "# Train the fine-grained classifier\n",
    "criterion = nn.CrossEntropyLoss()\n",
    "optimizer = optim.Adam(fine_grained_classifier.parameters(), lr=0.001)\n",
    "\n",
    "\n",
    "num_epochs = 100\n",
    "\n",
    "\n",
    "for epoch in range(num_epochs):\n",
    "    loss, accuracy = train(fine_grained_classifier, criterion, optimizer, train_loader)\n",
    "    if(epoch%10==0):\n",
    "     print(f\"Fine-Grained - Epoch: {epoch+1}, Loss: {loss:.4f}, Accuracy: {accuracy:.4f}\")\n",
    "\n",
    "# Instantiate the coarse-grained classifier\n",
    "coarse_grained_classifier = CoarseGrainedClassifier(4, 64, 4)\n",
    "coarse_grained_classifier.to(device)\n",
    "\n",
    "# Train the coarse-grained classifier\n",
    "criterion = nn.CrossEntropyLoss()\n",
    "optimizer = optim.Adam(coarse_grained_classifier.parameters(), lr=0.001)\n",
    "for epoch in range(num_epochs):\n",
    "    loss, accuracy = train_coarse(coarse_grained_classifier, criterion, optimizer, train_loader, fine_grained_classifier)\n",
    "    if(epoch%10==0):\n",
    "     print(f\"Coarse-Grained - Epoch: {epoch+1}, Loss: {loss:.4f}, Accuracy: {accuracy:.4f}\")"
   ]
  },
  {
   "cell_type": "code",
   "execution_count": null,
   "metadata": {},
   "outputs": [],
   "source": []
  },
  {
   "attachments": {},
   "cell_type": "markdown",
   "metadata": {},
   "source": [
    "# Testing and Evaluating the model"
   ]
  },
  {
   "cell_type": "code",
   "execution_count": 165,
   "metadata": {},
   "outputs": [],
   "source": [
    "from sklearn.metrics import confusion_matrix, roc_auc_score\n",
    "import torch.nn.functional as F\n",
    "\n",
    "# Function for Testing with output probabilities\n",
    "def test_with_probs(model, dataloader, fine_model=None, num_classes=4):\n",
    "    model.eval()\n",
    "    all_outputs = []\n",
    "    all_labels = []\n",
    "\n",
    "    with torch.no_grad():\n",
    "        for batch in dataloader:\n",
    "            images, labels = batch\n",
    "            images = images.to(device)\n",
    "            labels = labels.to(device)\n",
    "\n",
    "            if fine_model:\n",
    "                images = fine_model(images)\n",
    "\n",
    "            outputs = model(images)\n",
    "            softmax_outputs = F.softmax(outputs, dim=1)  # Apply softmax\n",
    "            all_outputs.append(softmax_outputs.cpu().numpy())\n",
    "            all_labels.append(labels.cpu().numpy())\n",
    "\n",
    "    # Convert to numpy arrays for convenience\n",
    "    all_outputs = np.concatenate(all_outputs)\n",
    "    all_labels = np.concatenate(all_labels)\n",
    "\n",
    "    # Calculate confusion matrix\n",
    "    all_preds = np.argmax(all_outputs, axis=1)\n",
    "    cm = confusion_matrix(all_labels, all_preds)\n",
    "\n",
    "    # Calculate AUC-ROC for each class\n",
    "    roc_auc = roc_auc_score(all_labels, all_outputs, multi_class='ovr')\n",
    "\n",
    "    return all_outputs, all_labels, cm, roc_auc\n"
   ]
  },
  {
   "cell_type": "code",
   "execution_count": 166,
   "metadata": {},
   "outputs": [],
   "source": [
    "num_classes = 4"
   ]
  },
  {
   "cell_type": "code",
   "execution_count": 167,
   "metadata": {},
   "outputs": [
    {
     "name": "stdout",
     "output_type": "stream",
     "text": [
      "Fine-Grained Classifier - AUC-ROC: 0.7709244383985212\n",
      "Coarse-Grained Classifier - AUC-ROC: 0.7843064039206387\n"
     ]
    }
   ],
   "source": [
    "# Get output probabilities, labels, confusion matrices and AUC-ROCs for the classifiers\n",
    "fine_probs, fine_labels, fine_cm, fine_roc_auc = test_with_probs(fine_grained_classifier, test_loader)\n",
    "coarse_probs, _, coarse_cm, coarse_roc_auc = test_with_probs(coarse_grained_classifier, test_loader, fine_grained_classifier)\n",
    "\n",
    "print(f\"Fine-Grained Classifier - AUC-ROC: {fine_roc_auc}\")\n",
    "print(f\"Coarse-Grained Classifier - AUC-ROC: {coarse_roc_auc}\")\n"
   ]
  },
  {
   "cell_type": "code",
   "execution_count": 168,
   "metadata": {},
   "outputs": [
    {
     "name": "stdout",
     "output_type": "stream",
     "text": [
      "Class 0 - Fine-Grained: Sensitivity: 0.8666666666666667, Specificity: 0.6518518518518519\n",
      "Class 0 - Coarse-Grained: Sensitivity: 0.8857142857142857, Specificity: 0.6370370370370371\n",
      "Class 1 - Fine-Grained: Sensitivity: 0.11538461538461539, Specificity: 0.9579439252336449\n",
      "Class 1 - Coarse-Grained: Sensitivity: 0.19230769230769232, Specificity: 0.9813084112149533\n",
      "Class 2 - Fine-Grained: Sensitivity: 0.3157894736842105, Specificity: 0.8797814207650273\n",
      "Class 2 - Coarse-Grained: Sensitivity: 0.43859649122807015, Specificity: 0.8633879781420765\n",
      "Class 3 - Fine-Grained: Sensitivity: 0.6538461538461539, Specificity: 0.9148936170212766\n",
      "Class 3 - Coarse-Grained: Sensitivity: 0.6346153846153846, Specificity: 0.9680851063829787\n"
     ]
    }
   ],
   "source": [
    "# Function to calculate sensitivity (recall) and specificity\n",
    "def compute_metrics(cm):\n",
    "    tp = np.diag(cm)\n",
    "    fp = np.sum(cm, axis=0) - tp\n",
    "    fn = np.sum(cm, axis=1) - tp\n",
    "    tn = np.sum(cm) - (fp + fn + tp)\n",
    "\n",
    "    sensitivity = tp / (tp + fn)\n",
    "    specificity = tn / (tn + fp)\n",
    "\n",
    "    return sensitivity, specificity\n",
    "\n",
    "# Compute and print sensitivity and specificity for each class\n",
    "fine_sensitivity, fine_specificity = compute_metrics(fine_cm)\n",
    "coarse_sensitivity, coarse_specificity = compute_metrics(coarse_cm)\n",
    "\n",
    "for i in range(num_classes):\n",
    "    print(f\"Class {i} - Fine-Grained: Sensitivity: {fine_sensitivity[i]}, Specificity: {fine_specificity[i]}\")\n",
    "    print(f\"Class {i} - Coarse-Grained: Sensitivity: {coarse_sensitivity[i]}, Specificity: {coarse_specificity[i]}\")\n"
   ]
  },
  {
   "cell_type": "code",
   "execution_count": 169,
   "metadata": {},
   "outputs": [
    {
     "name": "stdout",
     "output_type": "stream",
     "text": [
      "Ensemble Accuracy for Alpha=0.0: 0.65\n",
      "Ensemble Accuracy for Alpha=0.1: 0.6541666666666667\n",
      "Ensemble Accuracy for Alpha=0.2: 0.6583333333333333\n",
      "Ensemble Accuracy for Alpha=0.30000000000000004: 0.6583333333333333\n",
      "Ensemble Accuracy for Alpha=0.4: 0.6625\n",
      "Ensemble Accuracy for Alpha=0.5: 0.65\n",
      "Ensemble Accuracy for Alpha=0.6000000000000001: 0.6375\n",
      "Ensemble Accuracy for Alpha=0.7000000000000001: 0.6208333333333333\n",
      "Ensemble Accuracy for Alpha=0.8: 0.6208333333333333\n",
      "Ensemble Accuracy for Alpha=0.9: 0.6208333333333333\n",
      "Ensemble Accuracy for Alpha=1.0: 0.6083333333333333\n"
     ]
    }
   ],
   "source": [
    "# Combine probabilities and calculate accuracy for different alphas\n",
    "for alpha in np.arange(0.0, 1.1, 0.1):\n",
    "    ensemble_probs = alpha * fine_probs + (1 - alpha) * coarse_probs\n",
    "    ensemble_preds = np.argmax(ensemble_probs, axis=1)\n",
    "    ensemble_accuracy = np.mean(ensemble_preds == fine_labels)\n",
    "    print(f\"Ensemble Accuracy for Alpha={alpha}: {ensemble_accuracy}\")\n"
   ]
  },
  {
   "cell_type": "code",
   "execution_count": 170,
   "metadata": {},
   "outputs": [],
   "source": [
    "# Save the models\n",
    "torch.save(fine_grained_classifier.state_dict(), 'fine_grained_classifier.pth')\n",
    "torch.save(coarse_grained_classifier.state_dict(), 'coarse_grained_classifier.pth')\n"
   ]
  },
  {
   "cell_type": "code",
   "execution_count": 171,
   "metadata": {},
   "outputs": [],
   "source": [
    "# # Required Libraries\n",
    "# import torch\n",
    "# import numpy as np\n",
    "# from sklearn.metrics import confusion_matrix, roc_auc_score\n",
    "# import seaborn as sns\n",
    "# import matplotlib.pyplot as plt\n",
    "\n",
    "# # Function for model evaluation\n",
    "# def evaluate(model, dataloader):\n",
    "#     model.eval()\n",
    "#     labels = []\n",
    "#     preds = []\n",
    "#     probs = []\n",
    "\n",
    "#     with torch.no_grad():\n",
    "#         for batch in dataloader:\n",
    "#             images, batch_labels = batch\n",
    "#             images = images.to(device)\n",
    "#             batch_labels = batch_labels.to(device)\n",
    "\n",
    "#             batch_preds = model(images)\n",
    "#             batch_probs = torch.softmax(batch_preds, dim=1).cpu().numpy()\n",
    "\n",
    "#             _, batch_preds = torch.max(batch_preds.data, 1)\n",
    "\n",
    "#             labels.extend(batch_labels.cpu().numpy())\n",
    "#             preds.extend(batch_preds.cpu().numpy())\n",
    "#             probs.extend(batch_probs)\n",
    "\n",
    "#             # clear memory\n",
    "#             torch.cuda.empty_cache()\n",
    "\n",
    "#     return np.array(labels), np.array(preds), np.array(probs)\n",
    "\n",
    "# # Evaluate classifiers\n",
    "# fine_labels, fine_preds, fine_probs = evaluate(fine_grained_classifier, test_loader)\n",
    "# coarse_labels, coarse_preds, coarse_probs = evaluate(coarse_grained_classifier, test_loader)\n",
    "\n",
    "# ensemble_labels = fine_labels  # Since they are the same for fine and coarse-grained classifiers\n",
    "# ensemble_probs = np.mean([fine_probs, coarse_probs], axis=0)\n",
    "# _, ensemble_preds = np.argmax(ensemble_probs, axis=1)\n",
    "\n",
    "# # Compute confusion matrices\n",
    "# fine_cm = confusion_matrix(fine_labels, fine_preds)\n",
    "# coarse_cm = confusion_matrix(coarse_labels, coarse_preds)\n",
    "# ensemble_cm = confusion_matrix(ensemble_labels, ensemble_preds)\n",
    "\n",
    "# # Plot confusion matrices\n",
    "# sns.heatmap(fine_cm, annot=True, fmt='d')\n",
    "# plt.show()\n",
    "\n",
    "# sns.heatmap(coarse_cm, annot=True, fmt='d')\n",
    "# plt.show()\n",
    "\n",
    "# sns.heatmap(ensemble_cm, annot=True, fmt='d')\n",
    "# plt.show()\n",
    "\n",
    "# # Compute AUC-ROC\n",
    "# fine_roc_auc = roc_auc_score(fine_labels, fine_probs, multi_class='ovr')\n",
    "# coarse_roc_auc = roc_auc_score(coarse_labels, coarse_probs, multi_class='ovr')\n",
    "# ensemble_roc_auc = roc_auc_score(ensemble_labels, ensemble_probs, multi_class='ovr')\n",
    "\n",
    "# # Print AUC-ROC scores\n",
    "# print(f\"Fine-Grained Classifier - AUC-ROC: {fine_roc_auc}\")\n",
    "# print(f\"Coarse-Grained Classifier - AUC-ROC: {coarse_roc_auc}\")\n",
    "# print(f\"Ensemble Classifier - AUC-ROC: {ensemble_roc_auc}\")\n"
   ]
  },
  {
   "cell_type": "code",
   "execution_count": null,
   "metadata": {},
   "outputs": [],
   "source": []
  },
  {
   "cell_type": "code",
   "execution_count": null,
   "metadata": {},
   "outputs": [],
   "source": []
  },
  {
   "cell_type": "code",
   "execution_count": null,
   "metadata": {},
   "outputs": [],
   "source": []
  },
  {
   "attachments": {},
   "cell_type": "markdown",
   "metadata": {},
   "source": [
    "# Random checking"
   ]
  },
  {
   "cell_type": "code",
   "execution_count": 172,
   "metadata": {},
   "outputs": [
    {
     "name": "stdout",
     "output_type": "stream",
     "text": [
      "Unique labels in the dataset: tensor([0, 1, 2, 3])\n"
     ]
    }
   ],
   "source": [
    "unique_labels = next(iter(train_loader))[1].unique()\n",
    "print(f\"Unique labels in the dataset: {unique_labels}\")\n"
   ]
  },
  {
   "cell_type": "code",
   "execution_count": 173,
   "metadata": {},
   "outputs": [
    {
     "name": "stdout",
     "output_type": "stream",
     "text": [
      "Output features of fine-grained model: 4\n",
      "Output features of coarse-grained model: 4\n"
     ]
    }
   ],
   "source": [
    "print(f\"Output features of fine-grained model: {fine_grained_classifier.pretrained.fc.out_features}\")\n",
    "print(f\"Output features of coarse-grained model: {coarse_grained_classifier.fc2.out_features}\")\n"
   ]
  },
  {
   "cell_type": "code",
   "execution_count": 174,
   "metadata": {},
   "outputs": [
    {
     "name": "stdout",
     "output_type": "stream",
     "text": [
      "Number of classes: 4\n"
     ]
    }
   ],
   "source": [
    "num_classes = len(unique_labels)\n",
    "print(f\"Number of classes: {num_classes}\")\n"
   ]
  },
  {
   "cell_type": "code",
   "execution_count": null,
   "metadata": {},
   "outputs": [],
   "source": []
  },
  {
   "attachments": {},
   "cell_type": "markdown",
   "metadata": {},
   "source": [
    "# Script for model on website"
   ]
  },
  {
   "cell_type": "code",
   "execution_count": null,
   "metadata": {},
   "outputs": [],
   "source": []
  },
  {
   "cell_type": "code",
   "execution_count": 175,
   "metadata": {},
   "outputs": [
    {
     "name": "stderr",
     "output_type": "stream",
     "text": [
      "Using cache found in /Users/humzakhawar/.cache/torch/hub/pytorch_vision_v0.9.0\n",
      "/Users/humzakhawar/opt/anaconda3/lib/python3.9/site-packages/torchvision/models/_utils.py:208: UserWarning: The parameter 'pretrained' is deprecated since 0.13 and may be removed in the future, please use 'weights' instead.\n",
      "  warnings.warn(\n",
      "/Users/humzakhawar/opt/anaconda3/lib/python3.9/site-packages/torchvision/models/_utils.py:223: UserWarning: Arguments other than a weight enum or `None` for 'weights' are deprecated since 0.13 and may be removed in the future. The current behavior is equivalent to passing `weights=ResNet50_Weights.IMAGENET1K_V1`. You can also use `weights=ResNet50_Weights.DEFAULT` to get the most up-to-date weights.\n",
      "  warnings.warn(msg)\n"
     ]
    },
    {
     "name": "stdout",
     "output_type": "stream",
     "text": [
      "Fine-grained prediction: 0\n",
      "Coarse-grained prediction: 0\n"
     ]
    }
   ],
   "source": [
    "# Required Libraries\n",
    "import torch\n",
    "import torch.nn as nn\n",
    "from torchvision import transforms\n",
    "from PIL import Image\n",
    "\n",
    "# Fine-grained Model\n",
    "class FineGrainedClassifier(nn.Module):\n",
    "    def __init__(self, pretrained_model):\n",
    "        super(FineGrainedClassifier, self).__init__()\n",
    "        self.pretrained = pretrained_model\n",
    "\n",
    "    def forward(self, x):\n",
    "        return self.pretrained(x)\n",
    "\n",
    "# Coarse-grained Model\n",
    "class CoarseGrainedClassifier(nn.Module):\n",
    "    def __init__(self, input_size, hidden_size, num_classes):\n",
    "        super(CoarseGrainedClassifier, self).__init__()\n",
    "        self.fc1 = nn.Linear(input_size, hidden_size)\n",
    "        self.relu = nn.ReLU()\n",
    "        self.fc2 = nn.Linear(hidden_size, num_classes)\n",
    "\n",
    "    def forward(self, x):\n",
    "        return  self.fc2(self.relu(self.fc1(x)))\n",
    "\n",
    "# Load the pretrained model\n",
    "pretrained_model = torch.hub.load('pytorch/vision:v0.9.0', 'resnet50', pretrained=True)\n",
    "pretrained_model.fc = nn.Linear(pretrained_model.fc.in_features, 4)\n",
    "\n",
    "# Load the fine-grained model\n",
    "fine_grained_classifier = FineGrainedClassifier(pretrained_model)\n",
    "fine_grained_classifier.load_state_dict(torch.load('fine_grained_classifier.pth'))\n",
    "fine_grained_classifier.eval()\n",
    "\n",
    "# Load the coarse-grained model\n",
    "coarse_grained_classifier = CoarseGrainedClassifier(4, 64, 4)\n",
    "coarse_grained_classifier.load_state_dict(torch.load('coarse_grained_classifier.pth'))\n",
    "coarse_grained_classifier.eval()\n",
    "\n",
    "# Preprocess function\n",
    "def preprocess(image_path):\n",
    "    image = Image.open(image_path)\n",
    "    preprocess = transforms.Compose([\n",
    "        transforms.Resize(256),\n",
    "        transforms.CenterCrop(224),\n",
    "        transforms.ToTensor(),\n",
    "        transforms.Normalize(mean=[0.485, 0.456, 0.406], std=[0.229, 0.224, 0.225]),\n",
    "    ])\n",
    "    image = preprocess(image)\n",
    "    image = torch.unsqueeze(image, 0)\n",
    "    return image\n",
    "\n",
    "# Predict function\n",
    "def predict(image_path):\n",
    "    image = preprocess(image_path)\n",
    "    fine_output = fine_grained_classifier(image)\n",
    "    coarse_output = coarse_grained_classifier(fine_output.detach())\n",
    "    _, fine_pred = torch.max(fine_output.data, 1)\n",
    "    _, coarse_pred = torch.max(coarse_output.data, 1)\n",
    "    return fine_pred.item(), coarse_pred.item()\n",
    "\n",
    "# Example usage\n",
    "image_path = 'messidor/Base11/20051019_38557_0100_PP.tif'\n",
    "fine_pred, coarse_pred = predict(image_path)\n",
    "print(f\"Fine-grained prediction: {fine_pred}\")\n",
    "print(f\"Coarse-grained prediction: {coarse_pred}\")\n"
   ]
  },
  {
   "cell_type": "code",
   "execution_count": null,
   "metadata": {},
   "outputs": [],
   "source": []
  },
  {
   "cell_type": "code",
   "execution_count": null,
   "metadata": {},
   "outputs": [],
   "source": []
  },
  {
   "cell_type": "code",
   "execution_count": null,
   "metadata": {},
   "outputs": [],
   "source": []
  }
 ],
 "metadata": {
  "kernelspec": {
   "display_name": "base",
   "language": "python",
   "name": "python3"
  },
  "language_info": {
   "codemirror_mode": {
    "name": "ipython",
    "version": 3
   },
   "file_extension": ".py",
   "mimetype": "text/x-python",
   "name": "python",
   "nbconvert_exporter": "python",
   "pygments_lexer": "ipython3",
   "version": "3.9.13"
  },
  "orig_nbformat": 4
 },
 "nbformat": 4,
 "nbformat_minor": 2
}
